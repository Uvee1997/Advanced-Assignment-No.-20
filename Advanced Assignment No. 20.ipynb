{
 "cells": [
  {
   "cell_type": "markdown",
   "id": "d03140a9",
   "metadata": {},
   "source": [
    "1) Compare and contrast the float and Decimal classes' benefits and drawbacks.\n",
    "\n",
    ":- The main difference is Floats and Doubles are binary floating point types and a Decimal will store the value as a          floating decimal point type. So Decimals have much higher precision and are usually used within monetary (financial)        applications that require a high degree of accuracy.\n",
    "   A float value gives you approximation of the number you declear. For example, if I print 0.1 with 18 decimals places, I    don’t actually get 0.1 but instead an approximation.\n",
    "   Sometimes in code while using float values your values gets confused\n",
    "   Use decimals when precision matters, such as with financial calculations. Decimals are more precise than floats."
   ]
  },
  {
   "cell_type": "markdown",
   "id": "5a35613a",
   "metadata": {},
   "source": [
    "2) Decimal('1.200') and Decimal('1.2') are two objects to consider. In what sense are these the same\n",
    "   object? Are these just two ways of representing the exact same value, or do they correspond to\n",
    "   different internal states?\n",
    "   \n",
    ":- Here are both the values are floating values, this values are consider the precision into the comparison.    "
   ]
  },
  {
   "cell_type": "markdown",
   "id": "43eac46a",
   "metadata": {},
   "source": [
    "3) What happens if the equality of Decimal('1.200') and Decimal('1.2') is checked?\n",
    "\n",
    ":- The sign of an equality operator(==). Equality is checked when both the operands are equal, if the equality is checked      it returns boolean result. "
   ]
  },
  {
   "cell_type": "markdown",
   "id": "dc90065b",
   "metadata": {},
   "source": [
    "4) Why is it preferable to start a Decimal object with a string rather than a floating-point value?\n",
    "\n",
    ":- Because using floats for currency will just cause errors down the road."
   ]
  },
  {
   "cell_type": "markdown",
   "id": "101ba3dd",
   "metadata": {},
   "source": [
    "5) In an arithmetic phrase, how simple is it to combine Decimal objects with integers?\n",
    "\n",
    ":- Decimal objects can be copied, pickled, printed, used as dictionary keys, used as set elements, compared, sorted, and      coerced to another type (int).\n",
    "   Construct a new Decimal object based from value. value can be an integer, string, tuple, float, or another Decimal          object. If no value is given, returns Decimal('0')."
   ]
  },
  {
   "cell_type": "markdown",
   "id": "9bd6f48e",
   "metadata": {},
   "source": [
    "6) Can Decimal objects and floating-point values be combined easily?\n",
    "\n",
    ":- Decimal objects cannot generally be combined with floats or instances of fractions.Fraction in arithmetic operations. It    not that easy to combined, an attempt to add a Decimal to a float, for example, will raise a TypeError. However, it is      possible to use Python’s comparison operators to compare a Decimal instance x with another number y. This avoids            confusing results when doing equality comparisons between numbers of different types."
   ]
  },
  {
   "cell_type": "markdown",
   "id": "61766e24",
   "metadata": {},
   "source": [
    "7) Using the Fraction class but not the Decimal class, give an example of a quantity that can be expressed with absolute      precision.\n",
    "\n",
    ":- Provided the number of objects being counted does not change while the counting process is underway. The result of such    a counting measurement is an example of an exact number. If we count eggs in a carton, we know exactly how many eggs the    carton contains. The numbers of defined quantities are also exact. By definition, 1 foot is exactly 12 inches, 1 inch is    exactly 2.54 centimeters, and 1 gram is exactly 0.001 kilogram. Quantities derived from measurements other than            counting, however, are uncertain to varying extents due to practical limitations of the measurement process used."
   ]
  },
  {
   "cell_type": "markdown",
   "id": "ccbe6392",
   "metadata": {},
   "source": [
    "8) Describe a quantity that can be accurately expressed by the Decimal or Fraction classes but not by a floating-point value.\n",
    "\n",
    ":- The first version requires that numerator and denominator are instances of numbers.Rational and returns a new Fraction      instance with value numerator/denominator. If denominator is 0, it raises a ZeroDivisionError. The second version          requires that other_fraction is an instance of numbers.Rational and returns a Fraction instance with the same value. The    next two versions accept either a float or a decimal.Decimal instance, and return a Fraction instance with exactly the      same value."
   ]
  },
  {
   "cell_type": "markdown",
   "id": "a91a75dd",
   "metadata": {},
   "source": [
    "9) Consider the following two fraction objects: Fraction(1, 2) and Fraction(1, 2). (5, 10). Is the internal\n",
    "   state of these two objects the same? Why do you think that is?\n",
    "   \n",
    ":- Yes internal state of the two objects are same. Because all fraction objects are (1,2)    "
   ]
  },
  {
   "cell_type": "markdown",
   "id": "12e1d2d2",
   "metadata": {},
   "source": [
    "10) How do the Fraction class and the integer type (int) relate to each other? Containment or inheritance?\n",
    "\n",
    ":- Integers are whole numbers. Fractions are parts per whole item. The division 2:4, which can be written as a fraction        (2/4), and results in the decimal number 0.5."
   ]
  }
 ],
 "metadata": {
  "kernelspec": {
   "display_name": "Python 3 (ipykernel)",
   "language": "python",
   "name": "python3"
  },
  "language_info": {
   "codemirror_mode": {
    "name": "ipython",
    "version": 3
   },
   "file_extension": ".py",
   "mimetype": "text/x-python",
   "name": "python",
   "nbconvert_exporter": "python",
   "pygments_lexer": "ipython3",
   "version": "3.9.7"
  }
 },
 "nbformat": 4,
 "nbformat_minor": 5
}
